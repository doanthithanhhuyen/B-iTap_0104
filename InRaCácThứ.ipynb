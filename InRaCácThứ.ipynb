{
 "cells": [
  {
   "cell_type": "code",
   "execution_count": 1,
   "id": "8f47df27",
   "metadata": {},
   "outputs": [
    {
     "name": "stdout",
     "output_type": "stream",
     "text": [
      "Nhập số tự nhiên: 2\n",
      "Thứ 4\n"
     ]
    }
   ],
   "source": [
    "n=int(input(\"Nhập số tự nhiên: \"))\n",
    "if n == 0:\n",
    "    print(\"Thứ 2\")\n",
    "else:\n",
    "    if n == 1:\n",
    "        print(\"Thứ 3\")\n",
    "    else:\n",
    "        if n == 2:\n",
    "            print(\"Thứ 4\")\n",
    "        else:\n",
    "            if n==3:\n",
    "                print(\"Thứ 5\")\n",
    "            else: \n",
    "                if n == 4:\n",
    "                    print(\"Thứ 6\")\n",
    "                else:\n",
    "                    if n == 5:\n",
    "                        print(\"Thứ 7\")\n",
    "                    else:\n",
    "                        if n==6:\n",
    "                            print(\"Chủ nhật\")\n",
    "                        else:\n",
    "                            print(\"Error\")\n"
   ]
  },
  {
   "cell_type": "code",
   "execution_count": 3,
   "id": "3b30fe04",
   "metadata": {},
   "outputs": [
    {
     "name": "stdout",
     "output_type": "stream",
     "text": [
      "Nhập số tự nhiên: 1\n",
      "Thứ 3\n"
     ]
    }
   ],
   "source": [
    "#Cách viết gọn\n",
    "\n",
    "n=int(input(\"Nhập số tự nhiên: \"))\n",
    "if n == 0:\n",
    "    print(\"Thứ 2\")\n",
    "elif n == 1:\n",
    "    print(\"Thứ 3\")\n",
    "elif n == 2:\n",
    "    print(\"Thứ 4\")\n",
    "elif n==3:\n",
    "    print(\"Thứ 5\")\n",
    "elif n == 4:\n",
    "    print(\"Thứ 6\")\n",
    "elif n == 5:\n",
    "    print(\"Thứ 7\")\n",
    "elif n==6:\n",
    "    print(\"Chủ nhật\")\n",
    "else:\n",
    "    print(\"Error\")"
   ]
  },
  {
   "cell_type": "code",
   "execution_count": null,
   "id": "0027c944",
   "metadata": {},
   "outputs": [],
   "source": []
  }
 ],
 "metadata": {
  "kernelspec": {
   "display_name": "Python 3 (ipykernel)",
   "language": "python",
   "name": "python3"
  },
  "language_info": {
   "codemirror_mode": {
    "name": "ipython",
    "version": 3
   },
   "file_extension": ".py",
   "mimetype": "text/x-python",
   "name": "python",
   "nbconvert_exporter": "python",
   "pygments_lexer": "ipython3",
   "version": "3.9.7"
  }
 },
 "nbformat": 4,
 "nbformat_minor": 5
}
