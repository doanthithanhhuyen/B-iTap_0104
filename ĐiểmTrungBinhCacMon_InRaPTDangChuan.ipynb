{
 "cells": [
  {
   "cell_type": "code",
   "execution_count": 12,
   "id": "6bd7d3e5",
   "metadata": {},
   "outputs": [
    {
     "name": "stdout",
     "output_type": "stream",
     "text": [
      "Điểm hệ số 1: 7\n",
      "Điểm hệ số 1,5: 7\n",
      "Điểm hệ số 2: 7\n",
      "7.0\n",
      "Khá\n"
     ]
    }
   ],
   "source": [
    "a = float(input(\"Điểm hệ số 1: \"))\n",
    "b = float(input(\"Điểm hệ số 1,5: \"))\n",
    "c = float(input(\"Điểm hệ số 2: \"))\n",
    "ĐTB = (a +b*1.5 +c*2)/4.5\n",
    "print(ĐTB)\n",
    "\n",
    "if a < 0 and b < 0 and c < 0:\n",
    "    print(\"Dữ liệu sai\")\n",
    "else:\n",
    "    if ĐTB >= 8:\n",
    "        HocLuc = \"Giỏi\"\n",
    "    elif ĐTB >= 6.5 and ĐTB < 8:\n",
    "        HocLuc = \"Khá\"\n",
    "    elif ĐTB >=5 and ĐTB <6.5:\n",
    "        HocLuc = \"TB\"\n",
    "    else:\n",
    "        HocLuc = \"Yếu\"\n",
    "print(HocLuc)\n",
    "        \n"
   ]
  },
  {
   "cell_type": "code",
   "execution_count": null,
   "id": "a6f06a59",
   "metadata": {},
   "outputs": [
    {
     "name": "stdout",
     "output_type": "stream",
     "text": [
      "a = -1\n"
     ]
    }
   ],
   "source": [
    "a = float(input('a = '))\n",
    "b = float(input('b = '))\n",
    "c = float(input('c = '))\n",
    "\n",
    "if a == 0 and b == 0:\n",
    "    print('Phương trình có dạng: %s = 0' %(c))\n",
    "\n",
    "else:\n",
    "    if a == 1 and b == 1:\n",
    "        print('Phương trình có dạng: x^2 + x + %s = 0' %(c))\n",
    "    elif a == 1 and b == -1:\n",
    "        print('Phương trình có dạng: x^2 - x + %s = 0' %(c))\n",
    "    elif a == 1 and b == 0:\n",
    "        print('Phương trình có dạng: x^2 + %s = 0' %(c))\n",
    "        \n",
    "    elif a == -1 and b == 1:\n",
    "        print('Phương trình có dạng: -x^2 + x + %s = 0' %(c))    \n",
    "    elif a == -1 and b == -1:\n",
    "        print('Phương trình có dạng: -x^2 - x + %s = 0' %(c))\n",
    "    elif a == -1 and b == 0:\n",
    "        print('Phương trình có dạng: -x^2 + %s = 0' %(c))\n",
    "        \n",
    "    \n",
    "    elif a == 1 and (b != 1 or b != -1):\n",
    "        print('Phương trình có dạng: x^2 + %sx = %s' %(b,c))\n",
    "    elif a == -1 and (b != 1 or b != -1):\n",
    "        print('Phương trình có dạng: -x^2 + %sx = %s' %(b,c))\n",
    "    \n",
    "    elif b == 1 and (a != -1 or a != 1):\n",
    "        print('Phương trình có dạng: %sx^2 + x = %s' %(a,c))\n",
    "    elif b == -1 and (a != -1 or a != 1):\n",
    "        print('Phương trình có dạng: %sx^2 - x = %s' %(a,c))\n",
    "    \n",
    "    elif a == 0 and b != 0:\n",
    "        print('Phương trình có dạng: %sx + %s = 0' %(b,c))\n",
    "    elif b == 0 and a != 0:\n",
    "        print('Phương trình có dạng: %sx^2 + %s = 0' %(a,c))\n",
    "    \n",
    "    else:\n",
    "        print('Phương trình có dạng: %sx^2 + %sx + %s = 0' %(a,b,c))"
   ]
  },
  {
   "cell_type": "code",
   "execution_count": null,
   "id": "c1ad5cfa",
   "metadata": {},
   "outputs": [],
   "source": []
  }
 ],
 "metadata": {
  "kernelspec": {
   "display_name": "Python 3 (ipykernel)",
   "language": "python",
   "name": "python3"
  },
  "language_info": {
   "codemirror_mode": {
    "name": "ipython",
    "version": 3
   },
   "file_extension": ".py",
   "mimetype": "text/x-python",
   "name": "python",
   "nbconvert_exporter": "python",
   "pygments_lexer": "ipython3",
   "version": "3.9.7"
  }
 },
 "nbformat": 4,
 "nbformat_minor": 5
}
