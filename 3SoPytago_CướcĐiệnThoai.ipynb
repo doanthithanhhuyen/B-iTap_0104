{
 "cells": [
  {
   "cell_type": "code",
   "execution_count": 1,
   "id": "09082389",
   "metadata": {},
   "outputs": [
    {
     "name": "stdout",
     "output_type": "stream",
     "text": [
      "n1 = 1\n",
      "n2 = 2\n",
      "n3 = 3\n",
      "n1, n2, n3 không tạo thành bộ số Pitago\n"
     ]
    }
   ],
   "source": [
    "#Bài 1:\n",
    "\n",
    "n1 = int(input(\"n1 = \"))\n",
    "n2 = int(input(\"n2 = \"))\n",
    "n3 = int(input(\"n3 = \"))\n",
    "if n1*n1 == n2*n2 + n3*n3 or n2*n2 == n1*n1 + n3*n3 or n3*n3 == n2*n2 + n1*n1:\n",
    "    print(\"n1, n2, n3 tạo thành bộ số Pitago\")\n",
    "else:\n",
    "    print(\"n1, n2, n3 không tạo thành bộ số Pitago\")\n",
    "    "
   ]
  },
  {
   "cell_type": "code",
   "execution_count": 2,
   "id": "34de4ae8",
   "metadata": {},
   "outputs": [
    {
     "name": "stdout",
     "output_type": "stream",
     "text": [
      "Số phút gọi: 345\n",
      "Phí cước =  144000\n"
     ]
    }
   ],
   "source": [
    "#Bài 2:\n",
    "\n",
    "s = int(input(\"Số phút gọi: \"))\n",
    "if s<=50:\n",
    "    print(\"Phí cước = \",600*s+25000)\n",
    "else:\n",
    "    if 50<s<= 150:\n",
    "        print(\"Phí cước = \",25000+600*50+400*(s-50))\n",
    "    else:\n",
    "        if s>200:\n",
    "            print(\"Phí cước = \",25000+600*50+400*150+200*(s-200))"
   ]
  },
  {
   "cell_type": "code",
   "execution_count": null,
   "id": "12679763",
   "metadata": {},
   "outputs": [],
   "source": []
  }
 ],
 "metadata": {
  "kernelspec": {
   "display_name": "Python 3 (ipykernel)",
   "language": "python",
   "name": "python3"
  },
  "language_info": {
   "codemirror_mode": {
    "name": "ipython",
    "version": 3
   },
   "file_extension": ".py",
   "mimetype": "text/x-python",
   "name": "python",
   "nbconvert_exporter": "python",
   "pygments_lexer": "ipython3",
   "version": "3.9.7"
  }
 },
 "nbformat": 4,
 "nbformat_minor": 5
}
